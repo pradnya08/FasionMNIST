{
  "nbformat": 4,
  "nbformat_minor": 0,
  "metadata": {
    "colab": {
      "name": "Model_2.ipynb",
      "provenance": [],
      "collapsed_sections": []
    },
    "kernelspec": {
      "name": "python3",
      "display_name": "Python 3"
    },
    "accelerator": "GPU"
  },
  "cells": [
    {
      "cell_type": "markdown",
      "metadata": {
        "id": "kuEWHzY5LKbq"
      },
      "source": [
        "<h1>Machine Learning Course Project<br>\n",
        "Identify the apparels - Analytics Vidhya</h1>"
      ]
    },
    {
      "cell_type": "markdown",
      "metadata": {
        "id": "QJsoyfI-HsHC"
      },
      "source": [
        "Team E15<br>\n",
        "Pradyna A   <br>\n",
        "Vaishnavi H   <br>\n",
        "Vaishnavi D  <br>\n",
        "Vijaylaxmi P  <br>\n"
      ]
    },
    {
      "cell_type": "markdown",
      "metadata": {
        "id": "I0XMRAiTfcKx"
      },
      "source": [
        "Multi Class Image Classification Problem"
      ]
    },
    {
      "cell_type": "markdown",
      "metadata": {
        "id": "XCXvU4ACgEvi"
      },
      "source": [
        "It is a dataset comprised of 60,000 small square 28×28 pixel grayscale images of items of 10 types of clothing, such as shoes, t-shirts, dresses, and more . The labels are mapped from 0-9 namely:\n",
        "0: T-shirt/top <br>\n",
        "1: Trouser <br> 2: Pullover <br>3: Dress<br> 4: Coat <br>5: Sandal <br>6: Shirt<br> 7: Sneaker <br>8: Bag <br>9:Ankle boot<br>\n"
      ]
    },
    {
      "cell_type": "markdown",
      "metadata": {
        "id": "4AeHfQsRVLNE"
      },
      "source": [
        "Evaluation Metric : Multi-class accuracy"
      ]
    },
    {
      "cell_type": "code",
      "metadata": {
        "id": "TWG9Z7Lzg07g"
      },
      "source": [
        "%%capture\n",
        "!pip install tensorflow-gpu"
      ],
      "execution_count": null,
      "outputs": []
    },
    {
      "cell_type": "code",
      "metadata": {
        "colab": {
          "base_uri": "https://localhost:8080/"
        },
        "id": "KeY1GP7HhAg_",
        "outputId": "10edf575-3e18-4147-ff2e-08dbc84da445"
      },
      "source": [
        "!nvidia-smi"
      ],
      "execution_count": null,
      "outputs": [
        {
          "output_type": "stream",
          "text": [
            "Wed Feb 24 13:50:16 2021       \n",
            "+-----------------------------------------------------------------------------+\n",
            "| NVIDIA-SMI 460.39       Driver Version: 460.32.03    CUDA Version: 11.2     |\n",
            "|-------------------------------+----------------------+----------------------+\n",
            "| GPU  Name        Persistence-M| Bus-Id        Disp.A | Volatile Uncorr. ECC |\n",
            "| Fan  Temp  Perf  Pwr:Usage/Cap|         Memory-Usage | GPU-Util  Compute M. |\n",
            "|                               |                      |               MIG M. |\n",
            "|===============================+======================+======================|\n",
            "|   0  Tesla T4            Off  | 00000000:00:04.0 Off |                    0 |\n",
            "| N/A   36C    P8     9W /  70W |      0MiB / 15109MiB |      0%      Default |\n",
            "|                               |                      |                  N/A |\n",
            "+-------------------------------+----------------------+----------------------+\n",
            "                                                                               \n",
            "+-----------------------------------------------------------------------------+\n",
            "| Processes:                                                                  |\n",
            "|  GPU   GI   CI        PID   Type   Process name                  GPU Memory |\n",
            "|        ID   ID                                                   Usage      |\n",
            "|=============================================================================|\n",
            "|  No running processes found                                                 |\n",
            "+-----------------------------------------------------------------------------+\n"
          ],
          "name": "stdout"
        }
      ]
    },
    {
      "cell_type": "code",
      "metadata": {
        "colab": {
          "base_uri": "https://localhost:8080/",
          "height": 35
        },
        "id": "pJQ5TW1ui2ET",
        "outputId": "52db31c9-4e1b-40a1-cffa-88714761fa1b"
      },
      "source": [
        "import tensorflow as tf\n",
        "tf.__version__"
      ],
      "execution_count": null,
      "outputs": [
        {
          "output_type": "execute_result",
          "data": {
            "application/vnd.google.colaboratory.intrinsic+json": {
              "type": "string"
            },
            "text/plain": [
              "'2.4.1'"
            ]
          },
          "metadata": {
            "tags": []
          },
          "execution_count": 1
        }
      ]
    },
    {
      "cell_type": "code",
      "metadata": {
        "id": "mG2RTLtk6ALx",
        "colab": {
          "base_uri": "https://localhost:8080/"
        },
        "outputId": "15602833-3a83-4983-c264-b0a22337387d"
      },
      "source": [
        "from google.colab import drive\n",
        "drive.mount('/content/drive')"
      ],
      "execution_count": null,
      "outputs": [
        {
          "output_type": "stream",
          "text": [
            "Mounted at /content/drive\n"
          ],
          "name": "stdout"
        }
      ]
    },
    {
      "cell_type": "code",
      "metadata": {
        "id": "EjkGafuSGD-I"
      },
      "source": [
        "# Reading the train and test csv file\n",
        "import pandas as pd\n",
        "import seaborn as sns\n",
        "import numpy as np\n",
        "import matplotlib.pyplot as plt\n",
        "%matplotlib inline\n",
        "from keras.utils import to_categorical"
      ],
      "execution_count": null,
      "outputs": []
    },
    {
      "cell_type": "code",
      "metadata": {
        "id": "0YRre4qoOWO0"
      },
      "source": [
        "from skimage import color\n",
        "from skimage import io"
      ],
      "execution_count": null,
      "outputs": []
    },
    {
      "cell_type": "code",
      "metadata": {
        "colab": {
          "base_uri": "https://localhost:8080/"
        },
        "id": "SK2cDb7FiAoD",
        "outputId": "2a88949e-09cd-422e-cb21-3846bd02c238"
      },
      "source": [
        "import PIL\n",
        "print('Pillow Version:', PIL.__version__)\n",
        "\n",
        "from PIL import Image\n",
        "from numpy import asarray"
      ],
      "execution_count": null,
      "outputs": [
        {
          "output_type": "stream",
          "text": [
            "Pillow Version: 7.0.0\n"
          ],
          "name": "stdout"
        }
      ]
    },
    {
      "cell_type": "code",
      "metadata": {
        "id": "Wa0kaIyRiBUd"
      },
      "source": [
        "from sklearn.model_selection import train_test_split"
      ],
      "execution_count": null,
      "outputs": []
    },
    {
      "cell_type": "code",
      "metadata": {
        "id": "MCX51cZIRQaA"
      },
      "source": [
        "import tensorflow as tf\n",
        "from tensorflow import keras\n",
        "import numpy as np\n",
        "import matplotlib.pyplot as plt\n",
        "from keras.utils import np_utils \n",
        "import random"
      ],
      "execution_count": null,
      "outputs": []
    },
    {
      "cell_type": "code",
      "metadata": {
        "id": "RE6uUGKkSGqR"
      },
      "source": [
        "\n",
        "from keras.callbacks import History \n",
        "history = History()\n",
        "import matplotlib \n",
        "from matplotlib import pyplot"
      ],
      "execution_count": null,
      "outputs": []
    },
    {
      "cell_type": "code",
      "metadata": {
        "id": "I_Epui0DUTio"
      },
      "source": [
        "%%capture\n",
        "!unzip /content/drive/MyDrive/ML_Course_Project/train_LbELtWX.zip"
      ],
      "execution_count": null,
      "outputs": []
    },
    {
      "cell_type": "code",
      "metadata": {
        "id": "_nYLxJwQUOnm"
      },
      "source": [
        "%%capture\n",
        "!unzip /content/drive/MyDrive/ML_Course_Project/test_ScVgIM0.zip"
      ],
      "execution_count": null,
      "outputs": []
    },
    {
      "cell_type": "code",
      "metadata": {
        "id": "LnXGNKDEWPYv"
      },
      "source": [
        "train_df = pd.read_csv(\"train.csv\")\n",
        "test_df = pd.read_csv(\"test.csv\")"
      ],
      "execution_count": null,
      "outputs": []
    },
    {
      "cell_type": "code",
      "metadata": {
        "id": "Gd11wa-mbA3J",
        "colab": {
          "base_uri": "https://localhost:8080/"
        },
        "outputId": "7c5e3a70-928c-497f-c85e-4537e2f30528"
      },
      "source": [
        "print(f'Training dataset has {train_df.shape[0]} rows and {train_df.shape[1]} columns , namely {train_df.columns[0],train_df.columns[1]}')\n",
        "print(f'Test data has {test_df.shape[0]} rows, namely {test_df.columns[0]}')"
      ],
      "execution_count": null,
      "outputs": [
        {
          "output_type": "stream",
          "text": [
            "Training dataset has 60000 rows and 2 columns , namely ('id', 'label')\n",
            "Test data has 10000 rows, namely id\n"
          ],
          "name": "stdout"
        }
      ]
    },
    {
      "cell_type": "code",
      "metadata": {
        "id": "8d1Vooy2cCl-",
        "colab": {
          "base_uri": "https://localhost:8080/"
        },
        "outputId": "d24c6242-067d-477e-e487-492722fa84a5"
      },
      "source": [
        "#check for null values \n",
        "print(train_df.isnull().sum()) \n",
        "print(test_df.isnull().sum()) "
      ],
      "execution_count": null,
      "outputs": [
        {
          "output_type": "stream",
          "text": [
            "id       0\n",
            "label    0\n",
            "dtype: int64\n",
            "id    0\n",
            "dtype: int64\n"
          ],
          "name": "stdout"
        }
      ]
    },
    {
      "cell_type": "code",
      "metadata": {
        "id": "e9eFFL02YsKh",
        "colab": {
          "base_uri": "https://localhost:8080/"
        },
        "outputId": "801d00d6-a508-4ca2-fde2-f9512c854dc2"
      },
      "source": [
        "# count of each label in tarin dataset\n",
        "train_df['label'].value_counts(normalize=True,ascending=True)"
      ],
      "execution_count": null,
      "outputs": [
        {
          "output_type": "execute_result",
          "data": {
            "text/plain": [
              "0    0.1\n",
              "1    0.1\n",
              "2    0.1\n",
              "3    0.1\n",
              "4    0.1\n",
              "5    0.1\n",
              "6    0.1\n",
              "7    0.1\n",
              "8    0.1\n",
              "9    0.1\n",
              "Name: label, dtype: float64"
            ]
          },
          "metadata": {
            "tags": []
          },
          "execution_count": 10
        }
      ]
    },
    {
      "cell_type": "markdown",
      "metadata": {
        "id": "Lw3skjDKYn0x"
      },
      "source": [
        "Images are in RGBA format , need for coversion to gray scale<br>\n",
        "Present shape of images : (28,28,4)"
      ]
    },
    {
      "cell_type": "code",
      "metadata": {
        "id": "q5do86D1OXLS"
      },
      "source": [
        "# Reading the train images\n",
        "train_X = []\n",
        "for img_name in train_df['id']:     \n",
        "    img = color.rgb2gray(io.imread('train/' + str(img_name)+'.png')) # convert image shape to (28,28,1) and pixel values are between 0 and 1\n",
        "    train_X.append(img)\n",
        "train_X = np.array(train_X)\n",
        "train_Y = train_df['label']"
      ],
      "execution_count": null,
      "outputs": []
    },
    {
      "cell_type": "code",
      "metadata": {
        "id": "bD6gFqo8OXCm"
      },
      "source": [
        "# Reading the test images\n",
        "test_X = []\n",
        "for img_name in test_df['id']:     \n",
        "    img = color.rgb2gray(io.imread('test/' + str(img_name)+'.png'))\n",
        "    test_X.append(img)\n",
        "test_X = np.array(test_X)"
      ],
      "execution_count": null,
      "outputs": []
    },
    {
      "cell_type": "code",
      "metadata": {
        "id": "KvX0nQv5WfXY",
        "colab": {
          "base_uri": "https://localhost:8080/"
        },
        "outputId": "56a3b2ba-11c7-42e0-8078-bdf891b99916"
      },
      "source": [
        "print(len(train_X))\n",
        "print(len(test_X))"
      ],
      "execution_count": null,
      "outputs": [
        {
          "output_type": "stream",
          "text": [
            "60000\n",
            "10000\n"
          ],
          "name": "stdout"
        }
      ]
    },
    {
      "cell_type": "code",
      "metadata": {
        "id": "EkHxFPFHXVrL",
        "colab": {
          "base_uri": "https://localhost:8080/",
          "height": 302
        },
        "outputId": "dce2a3d4-d2e6-444c-8176-48e70701b402"
      },
      "source": [
        "#display train images\n",
        "for i in range(9):\n",
        "\t# define subplot\n",
        "\tplt.subplot(330 + 1 + i)\n",
        "\t# plot raw pixel data\n",
        "\tplt.imshow(train_X[i], cmap=plt.get_cmap('gray'))\n",
        "# show the figure\n",
        "plt.show()\n",
        "\n",
        "print(\"Labels for above displayed images are :\")\n",
        "for i in range(9):\n",
        "  print(train_Y[i],end = \",\")"
      ],
      "execution_count": null,
      "outputs": [
        {
          "output_type": "display_data",
          "data": {
            "image/png": "[encoded data removed]",
            "text/plain": [
              "<Figure size 432x288 with 9 Axes>"
            ]
          },
          "metadata": {
            "tags": [],
            "needs_background": "light"
          }
        },
        {
          "output_type": "stream",
          "text": [
            "Labels for above displayed images are :\n",
            "9,0,0,3,0,2,7,2,5,"
          ],
          "name": "stdout"
        }
      ]
    },
    {
      "cell_type": "code",
      "metadata": {
        "id": "e1d_-k72YkAf",
        "colab": {
          "base_uri": "https://localhost:8080/",
          "height": 268
        },
        "outputId": "1cc98f14-c0fd-4b49-96e3-e62777da7a2d"
      },
      "source": [
        "#display test images\n",
        "for i in range(9):\n",
        "\t# define subplot\n",
        "\tplt.subplot(330 + 1 + i)\n",
        "\t# plot raw pixel data\n",
        "\tplt.imshow(test_X[i], cmap=plt.get_cmap('gray'))\n",
        "# show the figure\n",
        "plt.show()"
      ],
      "execution_count": null,
      "outputs": [
        {
          "output_type": "display_data",
          "data": {
            "image/png": "[encoded data removed]",
            "text/plain": [
              "<Figure size 432x288 with 9 Axes>"
            ]
          },
          "metadata": {
            "tags": [],
            "needs_background": "light"
          }
        }
      ]
    },
    {
      "cell_type": "code",
      "metadata": {
        "id": "2bb_DWDDdxgW",
        "colab": {
          "base_uri": "https://localhost:8080/"
        },
        "outputId": "f41f4018-6bcf-4adc-e632-d0e4d7df9c99"
      },
      "source": [
        "image1 = Image.fromarray(train_X[0])\n",
        "print(image1.format)\n",
        "print(image1.mode)\n",
        "print(image1.size)\n",
        "\n",
        "image2 = Image.fromarray(test_X[0])\n",
        "print(image2.format)\n",
        "print(image2.mode)\n",
        "print(image2.size)\n",
        "# F (32-bit floating point pixels)"
      ],
      "execution_count": null,
      "outputs": [
        {
          "output_type": "stream",
          "text": [
            "None\n",
            "F\n",
            "(28, 28)\n",
            "None\n",
            "F\n",
            "(28, 28)\n"
          ],
          "name": "stdout"
        }
      ]
    },
    {
      "cell_type": "code",
      "metadata": {
        "id": "giSfVLc5dxo-"
      },
      "source": [
        "X_train,X_test,y_train,y_test = train_test_split(train_X,train_Y, test_size=0.4,shuffle=True)"
      ],
      "execution_count": null,
      "outputs": []
    },
    {
      "cell_type": "code",
      "metadata": {
        "id": "Om7PnxHtlbYn"
      },
      "source": [
        "y_train = np.array(y_train)"
      ],
      "execution_count": null,
      "outputs": []
    },
    {
      "cell_type": "markdown",
      "metadata": {
        "id": "l16uHNztceN5"
      },
      "source": [
        "**Simple Sequential Model**"
      ]
    },
    {
      "cell_type": "code",
      "metadata": {
        "id": "XemkEiZfdxlb"
      },
      "source": [
        "model = keras.Sequential([\n",
        "  keras.layers.InputLayer(input_shape=(28, 28)),\n",
        "  keras.layers.Reshape(target_shape=(28, 28, 1)),\n",
        "  keras.layers.Conv2D(filters=32, kernel_size=(3, 3), activation=tf.nn.relu),\n",
        "  keras.layers.BatchNormalization(),\n",
        "\n",
        "  keras.layers.Conv2D(filters=64, kernel_size=(3, 3), activation=tf.nn.relu),\n",
        "  keras.layers.BatchNormalization(),\n",
        "  keras.layers.MaxPooling2D(pool_size=(2, 2)),\n",
        "  keras.layers.Dropout(0.25),\n",
        "\n",
        "  keras.layers.Conv2D(filters=64, kernel_size=(3, 3), activation=tf.nn.relu),\n",
        "  keras.layers.BatchNormalization(),\n",
        "  # keras.layers.MaxPooling2D(pool_size=(2, 2)),\n",
        "  keras.layers.Dropout(0.25),\n",
        "\n",
        "  keras.layers.Conv2D(filters=64, kernel_size=(3, 3), activation=tf.nn.relu),\n",
        "  keras.layers.BatchNormalization(),\n",
        "  keras.layers.MaxPooling2D(pool_size=(2, 2)),\n",
        "  keras.layers.Dropout(0.25),\n",
        "\n",
        "  keras.layers.Flatten(),\n",
        "\n",
        "  keras.layers.Dense(512,activation='relu'),\n",
        "  keras.layers.BatchNormalization(),\n",
        "  keras.layers.Dropout(0.5),\n",
        "\n",
        "  keras.layers.Dense(128,activation='relu'),\n",
        "  keras.layers.BatchNormalization(),\n",
        "  keras.layers.Dropout(0.5),\n",
        "  \n",
        "  keras.layers.Dense(10,activation='softmax')\n",
        "])\n",
        "\n",
        "# Compile the model\n",
        "\n",
        "model.compile(optimizer='adam',\n",
        "              loss=tf.keras.losses.SparseCategoricalCrossentropy(from_logits=True),\n",
        "              metrics=['accuracy'])\n"
      ],
      "execution_count": null,
      "outputs": []
    },
    {
      "cell_type": "code",
      "metadata": {
        "id": "KD-JZRWpdxdn",
        "colab": {
          "base_uri": "https://localhost:8080/"
        },
        "outputId": "4e7678aa-98ee-4a2e-a56c-9f9a1aec1ff5"
      },
      "source": [
        "# Train the model\n",
        "# %%capture\n",
        "history1 = model.fit(X_train, y_train, validation_data = (X_test,y_test),epochs=20,batch_size = 240)"
      ],
      "execution_count": null,
      "outputs": [
        {
          "output_type": "stream",
          "text": [
            "Epoch 1/20\n",
            "150/150 [==============================] - 3s 20ms/step - loss: 0.1859 - accuracy: 0.9331 - val_loss: 0.2113 - val_accuracy: 0.9259\n",
            "Epoch 2/20\n",
            "150/150 [==============================] - 3s 20ms/step - loss: 0.1822 - accuracy: 0.9348 - val_loss: 0.2220 - val_accuracy: 0.9235\n",
            "Epoch 3/20\n",
            "150/150 [==============================] - 3s 20ms/step - loss: 0.1785 - accuracy: 0.9357 - val_loss: 0.2284 - val_accuracy: 0.9239\n",
            "Epoch 4/20\n",
            "150/150 [==============================] - 3s 20ms/step - loss: 0.1748 - accuracy: 0.9376 - val_loss: 0.2068 - val_accuracy: 0.9285\n",
            "Epoch 5/20\n",
            "150/150 [==============================] - 3s 20ms/step - loss: 0.1683 - accuracy: 0.9403 - val_loss: 0.2431 - val_accuracy: 0.9182\n",
            "Epoch 6/20\n",
            "150/150 [==============================] - 3s 20ms/step - loss: 0.1674 - accuracy: 0.9396 - val_loss: 0.2045 - val_accuracy: 0.9300\n",
            "Epoch 7/20\n",
            "150/150 [==============================] - 3s 20ms/step - loss: 0.1626 - accuracy: 0.9421 - val_loss: 0.2379 - val_accuracy: 0.9205\n",
            "Epoch 8/20\n",
            "150/150 [==============================] - 3s 20ms/step - loss: 0.1595 - accuracy: 0.9435 - val_loss: 0.2080 - val_accuracy: 0.9298\n",
            "Epoch 9/20\n",
            "150/150 [==============================] - 3s 20ms/step - loss: 0.1542 - accuracy: 0.9461 - val_loss: 0.2084 - val_accuracy: 0.9302\n",
            "Epoch 10/20\n",
            "150/150 [==============================] - 3s 20ms/step - loss: 0.1562 - accuracy: 0.9436 - val_loss: 0.2180 - val_accuracy: 0.9261\n",
            "Epoch 11/20\n",
            "150/150 [==============================] - 3s 20ms/step - loss: 0.1513 - accuracy: 0.9458 - val_loss: 0.2119 - val_accuracy: 0.9294\n",
            "Epoch 12/20\n",
            "150/150 [==============================] - 3s 20ms/step - loss: 0.1461 - accuracy: 0.9476 - val_loss: 0.2138 - val_accuracy: 0.9281\n",
            "Epoch 13/20\n",
            "150/150 [==============================] - 3s 20ms/step - loss: 0.1411 - accuracy: 0.9497 - val_loss: 0.2028 - val_accuracy: 0.9315\n",
            "Epoch 14/20\n",
            "150/150 [==============================] - 3s 20ms/step - loss: 0.1380 - accuracy: 0.9510 - val_loss: 0.2027 - val_accuracy: 0.9329\n",
            "Epoch 15/20\n",
            "150/150 [==============================] - 3s 20ms/step - loss: 0.1392 - accuracy: 0.9509 - val_loss: 0.2162 - val_accuracy: 0.9292\n",
            "Epoch 16/20\n",
            "150/150 [==============================] - 3s 20ms/step - loss: 0.1350 - accuracy: 0.9514 - val_loss: 0.2148 - val_accuracy: 0.9297\n",
            "Epoch 17/20\n",
            "150/150 [==============================] - 3s 20ms/step - loss: 0.1352 - accuracy: 0.9521 - val_loss: 0.2081 - val_accuracy: 0.9313\n",
            "Epoch 18/20\n",
            "150/150 [==============================] - 3s 20ms/step - loss: 0.1322 - accuracy: 0.9532 - val_loss: 0.2164 - val_accuracy: 0.9277\n",
            "Epoch 19/20\n",
            "150/150 [==============================] - 3s 20ms/step - loss: 0.1260 - accuracy: 0.9542 - val_loss: 0.2140 - val_accuracy: 0.9313\n",
            "Epoch 20/20\n",
            "150/150 [==============================] - 3s 20ms/step - loss: 0.1255 - accuracy: 0.9550 - val_loss: 0.2287 - val_accuracy: 0.9307\n"
          ],
          "name": "stdout"
        }
      ]
    },
    {
      "cell_type": "code",
      "metadata": {
        "id": "ykpbpoBvXh4M",
        "colab": {
          "base_uri": "https://localhost:8080/",
          "height": 295
        },
        "outputId": "bd7940b2-da95-4d20-be1a-34c48cb48de3"
      },
      "source": [
        "pyplot.plot(history1.history['loss'])\n",
        "pyplot.plot(history1.history['val_loss'])\n",
        "pyplot.title('model train vs validation loss')\n",
        "pyplot.ylabel('loss')\n",
        "pyplot.xlabel('epoch')\n",
        "pyplot.legend(['train', 'validation'], loc='upper right')\n",
        "pyplot.show()"
      ],
      "execution_count": null,
      "outputs": [
        {
          "output_type": "display_data",
          "data": {
            "image/png": "[encoded data removed]",
            "text/plain": [
              "<Figure size 432x288 with 1 Axes>"
            ]
          },
          "metadata": {
            "tags": [],
            "needs_background": "light"
          }
        }
      ]
    },
    {
      "cell_type": "code",
      "metadata": {
        "id": "TQX-kvXfXhy9",
        "colab": {
          "base_uri": "https://localhost:8080/",
          "height": 295
        },
        "outputId": "8d674291-5d6b-4f15-87b2-71fe41ae947e"
      },
      "source": [
        "pyplot.plot(history1.history['accuracy'])\n",
        "pyplot.plot(history1.history['val_accuracy'])\n",
        "pyplot.title('model train vs validation accuracy')\n",
        "pyplot.ylabel('accuracy')\n",
        "pyplot.xlabel('epoch')\n",
        "pyplot.legend(['train', 'validation'], loc='upper right')\n",
        "pyplot.show()"
      ],
      "execution_count": null,
      "outputs": [
        {
          "output_type": "display_data",
          "data": {
            "image/png": "[encoded data removed]",
            "text/plain": [
              "<Figure size 432x288 with 1 Axes>"
            ]
          },
          "metadata": {
            "tags": [],
            "needs_background": "light"
          }
        }
      ]
    },
    {
      "cell_type": "code",
      "metadata": {
        "id": "xFmLE8oS-IRM",
        "colab": {
          "base_uri": "https://localhost:8080/"
        },
        "outputId": "c11f1815-dbb1-41c8-8f13-5f6fa2f9c98c"
      },
      "source": [
        "y_pred=model.predict_classes(X_test)"
      ],
      "execution_count": null,
      "outputs": [
        {
          "output_type": "stream",
          "text": [
            "/usr/local/lib/python3.7/dist-packages/tensorflow/python/keras/engine/sequential.py:450: UserWarning: `model.predict_classes()` is deprecated and will be removed after 2021-01-01. Please use instead:* `np.argmax(model.predict(x), axis=-1)`,   if your model does multi-class classification   (e.g. if it uses a `softmax` last-layer activation).* `(model.predict(x) > 0.5).astype(\"int32\")`,   if your model does binary classification   (e.g. if it uses a `sigmoid` last-layer activation).\n",
            "  warnings.warn('`model.predict_classes()` is deprecated and '\n"
          ],
          "name": "stderr"
        }
      ]
    },
    {
      "cell_type": "code",
      "metadata": {
        "id": "beyDc_Me-JF6",
        "colab": {
          "base_uri": "https://localhost:8080/"
        },
        "outputId": "386853a8-d0ba-4497-b895-7ee5babec9b3"
      },
      "source": [
        "from sklearn.metrics import accuracy_score\n",
        "print(accuracy_score(y_test,y_pred))"
      ],
      "execution_count": null,
      "outputs": [
        {
          "output_type": "stream",
          "text": [
            "0.9307083333333334\n"
          ],
          "name": "stdout"
        }
      ]
    },
    {
      "cell_type": "code",
      "metadata": {
        "id": "LydvLiq1-L2Y",
        "colab": {
          "base_uri": "https://localhost:8080/"
        },
        "outputId": "e5744b31-5b92-4a8c-a77d-6fdaa381b5ef"
      },
      "source": [
        "y_pred_test=model.predict_classes(test_X)"
      ],
      "execution_count": null,
      "outputs": [
        {
          "output_type": "stream",
          "text": [
            "/usr/local/lib/python3.7/dist-packages/tensorflow/python/keras/engine/sequential.py:450: UserWarning: `model.predict_classes()` is deprecated and will be removed after 2021-01-01. Please use instead:* `np.argmax(model.predict(x), axis=-1)`,   if your model does multi-class classification   (e.g. if it uses a `softmax` last-layer activation).* `(model.predict(x) > 0.5).astype(\"int32\")`,   if your model does binary classification   (e.g. if it uses a `sigmoid` last-layer activation).\n",
            "  warnings.warn('`model.predict_classes()` is deprecated and '\n"
          ],
          "name": "stderr"
        }
      ]
    },
    {
      "cell_type": "code",
      "metadata": {
        "id": "CS7d0Z7gEBrw"
      },
      "source": [
        "# from sklearn.metrics import accuracy_score\n",
        "# print(accuracy_score(y_final_test,y_pred_test))"
      ],
      "execution_count": null,
      "outputs": []
    },
    {
      "cell_type": "code",
      "metadata": {
        "id": "Er5fCeH5-bDQ"
      },
      "source": [
        "id = list(test_df['id'])"
      ],
      "execution_count": null,
      "outputs": []
    },
    {
      "cell_type": "code",
      "metadata": {
        "id": "_9b6dKet-e4x"
      },
      "source": [
        "submission = pd.DataFrame(list(zip(id,y_pred_test)))\n",
        "submission.columns = ['id','label']"
      ],
      "execution_count": null,
      "outputs": []
    },
    {
      "cell_type": "code",
      "metadata": {
        "id": "hf7duUWV-fC2"
      },
      "source": [
        "# submission['label'] = submission['label'].replace([0,1],['fake','real'])"
      ],
      "execution_count": null,
      "outputs": []
    },
    {
      "cell_type": "code",
      "metadata": {
        "id": "CVC8EOIG-eyH"
      },
      "source": [
        "submission.to_csv(\"answer.csv\", header = True, sep = \",\", index = False)"
      ],
      "execution_count": null,
      "outputs": []
    }
  ]
}